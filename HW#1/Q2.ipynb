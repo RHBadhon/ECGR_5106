{
 "cells": [
  {
   "cell_type": "code",
   "execution_count": 313,
   "id": "c406aa53",
   "metadata": {},
   "outputs": [],
   "source": [
    "#IMPORT libraries\n",
    "import torch\n",
    "import torch.nn as nn\n",
    "import torch.optim as optim\n",
    "from torch.utils.data import TensorDataset, DataLoader\n",
    "from sklearn.model_selection import train_test_split\n",
    "import numpy as np\n",
    "import pandas as pd\n",
    "import matplotlib.pyplot as plt\n",
    "\n",
    "\n"
   ]
  },
  {
   "cell_type": "code",
   "execution_count": 314,
   "id": "dcbeaeb1",
   "metadata": {},
   "outputs": [],
   "source": [
    "df_train_test = pd.read_csv('D:/UNCC/Spring_24/Datasets/house-train.csv')\n"
   ]
  },
  {
   "cell_type": "code",
   "execution_count": 315,
   "id": "4818c3ce",
   "metadata": {
    "scrolled": true
   },
   "outputs": [],
   "source": [
    "# # Check data type\n",
    "pd.options.display.max_rows=90\n",
    "df_dtype = pd.DataFrame(df_train_test.dtypes,columns=['dtype'])\n",
    "print(df_dtype.value_counts())\n",
    "print(df_dtype)"
   ]
  },
  {
   "cell_type": "code",
   "execution_count": 316,
   "id": "1033e578",
   "metadata": {},
   "outputs": [],
   "source": [
    "# Features used to modeling\n",
    "usefull_cols = ['OverallQual', 'GrLivArea', 'GarageArea', 'TotalBsmtSF'\n",
    "                , 'FullBath', 'YearBuilt', 'YearRemodAdd', 'Fireplaces'\n",
    "                ,'LotFrontage','WoodDeckSF','OpenPorchSF', 'SalePrice',]\n",
    "df_train_test_prepro = df_train_test[usefull_cols].copy()"
   ]
  },
  {
   "cell_type": "markdown",
   "id": "99d86578",
   "metadata": {},
   "source": [
    "# (a)"
   ]
  },
  {
   "cell_type": "code",
   "execution_count": 317,
   "id": "1ed1c0e8",
   "metadata": {},
   "outputs": [],
   "source": [
    "# Convert all columns to numeric (float) and handle NaN values\n",
    "df_train_test_prepro = df_train_test_prepro.apply(pd.to_numeric, errors='coerce').fillna(0)"
   ]
  },
  {
   "cell_type": "code",
   "execution_count": 318,
   "id": "d086a8d5",
   "metadata": {},
   "outputs": [
    {
     "name": "stdout",
     "output_type": "stream",
     "text": [
      "Using device: cuda\n"
     ]
    }
   ],
   "source": [
    "device = torch.device ('cuda' if torch.cuda.is_available() else 'cpu')\n",
    "print (f'Using device: {device}')"
   ]
  },
  {
   "cell_type": "code",
   "execution_count": 319,
   "id": "b8b4f23c",
   "metadata": {},
   "outputs": [],
   "source": [
    "# Save the DataFrame to a CSV file\n",
    "output_file = 'temp/housing_df_train_test_withoutonehot_prepro.csv'\n",
    "df_train_test_prepro.to_csv(output_file, index=False)\n",
    "print(f'DataFrame saved to {output_file}')"
   ]
  },
  {
   "cell_type": "code",
   "execution_count": 346,
   "id": "a0ab9120",
   "metadata": {},
   "outputs": [
    {
     "name": "stdout",
     "output_type": "stream",
     "text": [
      "   OverallQual  GrLivArea  GarageArea  TotalBsmtSF  FullBath  YearBuilt  \\\n",
      "0            7       1710         548          856         2       2003   \n",
      "1            6       1262         460         1262         2       1976   \n",
      "2            7       1786         608          920         2       2001   \n",
      "3            7       1717         642          756         1       1915   \n",
      "4            8       2198         836         1145         2       2000   \n",
      "\n",
      "   YearRemodAdd  Fireplaces  LotFrontage  WoodDeckSF  OpenPorchSF  SalePrice  \n",
      "0          2003           0         65.0           0           61     208500  \n",
      "1          1976           1         80.0         298            0     181500  \n",
      "2          2002           1         68.0           0           42     223500  \n",
      "3          1970           1         60.0           0           35     140000  \n",
      "4          2000           1         84.0         192           84     250000  \n",
      "(1460, 12)\n"
     ]
    }
   ],
   "source": [
    "df = pd.read_csv('temp/housing_df_train_test_withoutonehot_prepro.csv')\n",
    "print (df.head())\n",
    "print(df.shape)"
   ]
  },
  {
   "cell_type": "code",
   "execution_count": 347,
   "id": "9a6e92a6",
   "metadata": {},
   "outputs": [],
   "source": [
    "x = df.drop (['SalePrice'], axis=1).values\n",
    "y = df['SalePrice'].values"
   ]
  },
  {
   "cell_type": "code",
   "execution_count": 348,
   "id": "3d8977d6",
   "metadata": {
    "scrolled": true
   },
   "outputs": [
    {
     "name": "stdout",
     "output_type": "stream",
     "text": [
      "[[   7. 1710.  548. ...   65.    0.   61.]\n",
      " [   6. 1262.  460. ...   80.  298.    0.]\n",
      " [   7. 1786.  608. ...   68.    0.   42.]\n",
      " ...\n",
      " [   7. 2340.  252. ...   66.    0.   60.]\n",
      " [   5. 1078.  240. ...   68.  366.    0.]\n",
      " [   5. 1256.  276. ...   75.  736.   68.]]\n",
      "[208500 181500 223500 ... 266500 142125 147500]\n"
     ]
    }
   ],
   "source": [
    "print(x)\n",
    "print (y)"
   ]
  },
  {
   "cell_type": "code",
   "execution_count": 349,
   "id": "3c033cea",
   "metadata": {},
   "outputs": [
    {
     "name": "stdout",
     "output_type": "stream",
     "text": [
      "(1460, 11)\n",
      "(1460,)\n"
     ]
    }
   ],
   "source": [
    "print(x.shape)\n",
    "print(y.shape)"
   ]
  },
  {
   "cell_type": "code",
   "execution_count": 350,
   "id": "99302ba0",
   "metadata": {},
   "outputs": [],
   "source": [
    "from sklearn.model_selection import train_test_split\n",
    "# Split the data into train and validation sets\n",
    "x_train_pre, x_val_pre, y_train_pre, y_val_pre = train_test_split(x, y, test_size=0.2, random_state=42)\n",
    "\n",
    "\n",
    "# Calculate mean and standard deviation of the training data\n",
    "mean_train = np.mean(x_train_pre, axis=0)\n",
    "std_train = np.std(x_train_pre, axis=0)\n",
    "mean_val = np.mean(x_val_pre, axis=0)\n",
    "std_val = np.std(x_val_pre, axis=0)\n",
    "\n",
    "# Normalize the training data\n",
    "x_train = (x_train_pre - mean_train) / std_train\n",
    "\n",
    "# Normalize the validation data using mean and standard deviation of training data\n",
    "x_val = (x_val_pre - mean_val) / std_val\n",
    "\n",
    "x_train = torch.tensor(x_train, dtype=torch.float32)\n",
    "x_val = torch.tensor(x_val, dtype=torch.float32)\n",
    "\n",
    "# Calculate mean and standard deviation of the training data\n",
    "mean_train = np.mean(y_train_pre, axis=0)\n",
    "std_train = np.std(y_train_pre, axis=0)\n",
    "mean_val = np.mean(y_val_pre, axis=0)\n",
    "std_val = np.std(y_val_pre, axis=0)\n",
    "\n",
    "# Normalize the training data\n",
    "y_train = (y_train_pre - mean_train) / std_train\n",
    "\n",
    "# Normalize the validation data using mean and standard deviation of training data\n",
    "y_val = (y_val_pre - mean_val) / std_val\n",
    "\n",
    "\n",
    "y_train = torch.tensor(y_train, dtype=torch.float32)\n",
    "y_val = torch.tensor(y_val, dtype=torch.float32)"
   ]
  },
  {
   "cell_type": "code",
   "execution_count": 351,
   "id": "79a8b9cf",
   "metadata": {},
   "outputs": [],
   "source": [
    "# print(x_train, x_val)"
   ]
  },
  {
   "cell_type": "code",
   "execution_count": 352,
   "id": "9a45623c",
   "metadata": {},
   "outputs": [],
   "source": [
    "train_dataset = TensorDataset(x_train, y_train)\n",
    "val_dataset = TensorDataset(x_val, y_val)"
   ]
  },
  {
   "cell_type": "code",
   "execution_count": 353,
   "id": "04753f10",
   "metadata": {},
   "outputs": [],
   "source": [
    "# Create TensorDatasets and DataLoaders for train and validation sets\n",
    "\n",
    "train_loader = DataLoader(dataset=train_dataset, batch_size=32, shuffle=True)\n",
    "val_loader = DataLoader(dataset=val_dataset, batch_size=32, shuffle=False)"
   ]
  },
  {
   "cell_type": "code",
   "execution_count": 357,
   "id": "ff0fc3b3",
   "metadata": {},
   "outputs": [],
   "source": [
    "#Definition of network model class\n",
    "class regressionnet(nn.Module):\n",
    "    def __init__(self):\n",
    "        super(regressionnet, self).__init__()\n",
    "        self.fc1 = nn.Linear(11, 256)  # \n",
    "        self.fc2 = nn.Linear(256, 512)\n",
    "        self.fc3 = nn.Linear(512, 256)\n",
    "        self.fc4 = nn.Linear(256, 64)  # \n",
    "        self.fc5 = nn.Linear(64, 1)\n",
    "        \n",
    "    def forward(self,x):\n",
    "        x = torch.relu(self.fc1(x))\n",
    "        x = torch.relu(self.fc2(x))\n",
    "        x = torch.relu(self.fc3(x))\n",
    "        x = torch.relu(self.fc4(x))\n",
    "        x = self.fc5(x)\n",
    "        return x"
   ]
  },
  {
   "cell_type": "code",
   "execution_count": 358,
   "id": "5a3bf117",
   "metadata": {},
   "outputs": [],
   "source": [
    "# Model, loss function, and optimizer\n",
    "# Initialize the network\n",
    "model = regressionnet()\n",
    "criterion = nn.MSELoss()\n",
    "optimizer = optim.SGD(model.parameters(), lr=0.001, momentum =0.9)"
   ]
  },
  {
   "cell_type": "code",
   "execution_count": 359,
   "id": "a888ab68",
   "metadata": {
    "scrolled": false
   },
   "outputs": [
    {
     "name": "stdout",
     "output_type": "stream",
     "text": [
      "Epoch[1/40], Train Loss: 1.0088, Validation Loss: 1.0014, Validation RMSE: 5.6449\n",
      "Epoch[2/40], Train Loss: 1.0008, Validation Loss: 0.9998, Validation RMSE: 5.6402\n",
      "Epoch[3/40], Train Loss: 1.0004, Validation Loss: 0.9997, Validation RMSE: 5.6399\n",
      "Epoch[4/40], Train Loss: 1.0006, Validation Loss: 0.9997, Validation RMSE: 5.6398\n",
      "Epoch[5/40], Train Loss: 1.0004, Validation Loss: 0.9997, Validation RMSE: 5.6397\n",
      "Epoch[6/40], Train Loss: 1.0009, Validation Loss: 0.9997, Validation RMSE: 5.6397\n",
      "Epoch[7/40], Train Loss: 1.0005, Validation Loss: 0.9996, Validation RMSE: 5.6397\n",
      "Epoch[8/40], Train Loss: 1.0000, Validation Loss: 0.9997, Validation RMSE: 5.6398\n",
      "Epoch[9/40], Train Loss: 1.0001, Validation Loss: 0.9997, Validation RMSE: 5.6398\n",
      "Epoch[10/40], Train Loss: 1.0002, Validation Loss: 0.9996, Validation RMSE: 5.6396\n",
      "Epoch[11/40], Train Loss: 1.0000, Validation Loss: 0.9997, Validation RMSE: 5.6398\n",
      "Epoch[12/40], Train Loss: 1.0000, Validation Loss: 0.9997, Validation RMSE: 5.6398\n",
      "Epoch[13/40], Train Loss: 0.9999, Validation Loss: 0.9997, Validation RMSE: 5.6400\n",
      "Epoch[14/40], Train Loss: 1.0000, Validation Loss: 0.9996, Validation RMSE: 5.6397\n",
      "Epoch[15/40], Train Loss: 1.0005, Validation Loss: 0.9998, Validation RMSE: 5.6400\n",
      "Epoch[16/40], Train Loss: 1.0000, Validation Loss: 0.9996, Validation RMSE: 5.6397\n",
      "Epoch[17/40], Train Loss: 0.9993, Validation Loss: 0.9997, Validation RMSE: 5.6398\n",
      "Epoch[18/40], Train Loss: 0.9996, Validation Loss: 0.9997, Validation RMSE: 5.6398\n",
      "Epoch[19/40], Train Loss: 0.9999, Validation Loss: 0.9997, Validation RMSE: 5.6397\n",
      "Epoch[20/40], Train Loss: 0.9999, Validation Loss: 0.9998, Validation RMSE: 5.6400\n",
      "Epoch[21/40], Train Loss: 0.9995, Validation Loss: 0.9997, Validation RMSE: 5.6400\n",
      "Epoch[22/40], Train Loss: 0.9992, Validation Loss: 0.9997, Validation RMSE: 5.6398\n",
      "Epoch[23/40], Train Loss: 0.9997, Validation Loss: 0.9998, Validation RMSE: 5.6400\n",
      "Epoch[24/40], Train Loss: 1.0000, Validation Loss: 0.9997, Validation RMSE: 5.6399\n",
      "Epoch[25/40], Train Loss: 0.9995, Validation Loss: 0.9998, Validation RMSE: 5.6401\n",
      "Epoch[26/40], Train Loss: 0.9997, Validation Loss: 0.9997, Validation RMSE: 5.6399\n",
      "Epoch[27/40], Train Loss: 1.0000, Validation Loss: 0.9998, Validation RMSE: 5.6399\n",
      "Epoch[28/40], Train Loss: 0.9999, Validation Loss: 0.9997, Validation RMSE: 5.6400\n",
      "Epoch[29/40], Train Loss: 1.0001, Validation Loss: 0.9997, Validation RMSE: 5.6400\n",
      "Epoch[30/40], Train Loss: 0.9999, Validation Loss: 0.9998, Validation RMSE: 5.6402\n",
      "Epoch[31/40], Train Loss: 0.9988, Validation Loss: 0.9998, Validation RMSE: 5.6400\n",
      "Epoch[32/40], Train Loss: 1.0003, Validation Loss: 0.9998, Validation RMSE: 5.6400\n",
      "Epoch[33/40], Train Loss: 0.9994, Validation Loss: 0.9998, Validation RMSE: 5.6400\n",
      "Epoch[34/40], Train Loss: 1.0011, Validation Loss: 0.9998, Validation RMSE: 5.6401\n",
      "Epoch[35/40], Train Loss: 0.9996, Validation Loss: 0.9998, Validation RMSE: 5.6401\n",
      "Epoch[36/40], Train Loss: 1.0004, Validation Loss: 0.9998, Validation RMSE: 5.6401\n",
      "Epoch[37/40], Train Loss: 0.9995, Validation Loss: 0.9998, Validation RMSE: 5.6401\n",
      "Epoch[38/40], Train Loss: 1.0003, Validation Loss: 0.9998, Validation RMSE: 5.6401\n",
      "Epoch[39/40], Train Loss: 0.9997, Validation Loss: 0.9998, Validation RMSE: 5.6401\n",
      "Epoch[40/40], Train Loss: 1.0004, Validation Loss: 0.9998, Validation RMSE: 5.6400\n"
     ]
    },
    {
     "data": {
      "image/png": "[encoded data removed]",
      "text/plain": [
       "<Figure size 640x480 with 1 Axes>"
      ]
     },
     "metadata": {},
     "output_type": "display_data"
    },
    {
     "name": "stdout",
     "output_type": "stream",
     "text": [
      "Final Validation RMSE: 5.6400\n"
     ]
    }
   ],
   "source": [
    "train_loss_list = []\n",
    "val_loss_list = []\n",
    "\n",
    "num_epochs = 40\n",
    "for epoch in range(num_epochs):\n",
    "    # Training phase\n",
    "    model.train()\n",
    "    train_loss = 0.0\n",
    "    for inputs, targets in train_loader:\n",
    "        optimizer.zero_grad()  # Clear existing gradients\n",
    "        outputs = model(inputs)  # Forward pass\n",
    "        loss = criterion(outputs, targets)  # Compute loss\n",
    "#         print(outputs,loss)\n",
    "        loss.backward()  # Backward pass (compute gradients)\n",
    "        optimizer.step()  # Update model parameters\n",
    "        train_loss += loss.item() * inputs.size(0)  # Accumulate the loss\n",
    "    # Calculate average training loss\n",
    "    train_loss /= len(train_loader.dataset)\n",
    "    train_loss_list.append(train_loss)\n",
    "\n",
    "    # Validation phase\n",
    "    model.eval()\n",
    "    val_loss = 0.0\n",
    "    val_total = 0.0\n",
    "    with torch.no_grad():\n",
    "        for inputs, targets in val_loader:\n",
    "            outputs = model(inputs)  # Forward pass\n",
    "            loss = criterion(outputs, targets)  # Compute loss\n",
    "            val_loss += loss.item() * inputs.size(0)  # Accumulate the loss\n",
    "            val_total += ((outputs - targets) ** 2).sum().item()  # Accumulate squared errors\n",
    "\n",
    "    # Calculate average validation loss (MSE) and RMSE\n",
    "    val_loss /= len(val_loader.dataset)\n",
    "    val_loss_list.append(val_loss)\n",
    "    rmse = np.sqrt(val_total / len(val_loader.dataset))\n",
    "\n",
    "    # Print training and validation results\n",
    "    print(f'Epoch[{epoch+1}/{num_epochs}], Train Loss: {train_loss:.4f}, Validation Loss: {val_loss:.4f}, Validation RMSE: {rmse:.4f}')\n",
    "\n",
    "# Plotting training and validation loss\n",
    "plt.plot(train_loss_list, label='Training Loss')\n",
    "plt.plot(val_loss_list, label='Validation Loss')\n",
    "plt.xlabel('Epoch')\n",
    "plt.ylabel('Loss')\n",
    "plt.title('Training and Validation Loss')\n",
    "plt.legend()\n",
    "plt.savefig('temp/regression_loss_plot.png')\n",
    "plt.show()\n",
    "\n",
    "# Print final RMSE\n",
    "print(f'Final Validation RMSE: {rmse:.4f}')"
   ]
  },
  {
   "cell_type": "markdown",
   "id": "8733d0b3",
   "metadata": {},
   "source": [
    "# (b)"
   ]
  },
  {
   "cell_type": "code",
   "execution_count": 132,
   "id": "6a16e92f",
   "metadata": {},
   "outputs": [],
   "source": [
    "usefull_cols = ['OverallQual', 'GrLivArea', 'GarageArea', 'TotalBsmtSF'\n",
    "                , 'FullBath', 'YearBuilt', 'YearRemodAdd', 'Fireplaces'\n",
    "                ,'LotFrontage','WoodDeckSF','OpenPorchSF'\n",
    "                ,'ExterQual','Neighborhood','MSZoning'\n",
    "                ,'Alley','LotShape','LandContour','Condition1','HouseStyle','MasVnrType','SaleCondition', 'SalePrice']\n",
    "df_train_prepro = df_train_test[usefull_cols].copy()"
   ]
  },
  {
   "cell_type": "code",
   "execution_count": 371,
   "id": "66027b13",
   "metadata": {},
   "outputs": [
    {
     "ename": "KeyError",
     "evalue": "\"None of [Index(['Neighborhood', 'MSZoning', 'Alley', 'LotShape', 'LandContour',\\n       'Condition1', 'HouseStyle', 'MasVnrType', 'SaleCondition'],\\n      dtype='object')] are in the [columns]\"",
     "output_type": "error",
     "traceback": [
      "\u001b[1;31m---------------------------------------------------------------------------\u001b[0m",
      "\u001b[1;31mKeyError\u001b[0m                                  Traceback (most recent call last)",
      "Cell \u001b[1;32mIn[371], line 1\u001b[0m\n\u001b[1;32m----> 1\u001b[0m df_train_prepro \u001b[38;5;241m=\u001b[39m pd\u001b[38;5;241m.\u001b[39mget_dummies(df_train_prepro,columns\u001b[38;5;241m=\u001b[39m[\u001b[38;5;124m'\u001b[39m\u001b[38;5;124mNeighborhood\u001b[39m\u001b[38;5;124m'\u001b[39m,\u001b[38;5;124m'\u001b[39m\u001b[38;5;124mMSZoning\u001b[39m\u001b[38;5;124m'\u001b[39m,\u001b[38;5;124m'\u001b[39m\u001b[38;5;124mAlley\u001b[39m\u001b[38;5;124m'\u001b[39m,\u001b[38;5;124m'\u001b[39m\u001b[38;5;124mLotShape\u001b[39m\u001b[38;5;124m'\u001b[39m,\u001b[38;5;124m'\u001b[39m\u001b[38;5;124mLandContour\u001b[39m\u001b[38;5;124m'\u001b[39m,\u001b[38;5;124m'\u001b[39m\u001b[38;5;124mCondition1\u001b[39m\u001b[38;5;124m'\u001b[39m,\u001b[38;5;124m'\u001b[39m\u001b[38;5;124mHouseStyle\u001b[39m\u001b[38;5;124m'\u001b[39m,\u001b[38;5;124m'\u001b[39m\u001b[38;5;124mMasVnrType\u001b[39m\u001b[38;5;124m'\u001b[39m,\u001b[38;5;124m'\u001b[39m\u001b[38;5;124mSaleCondition\u001b[39m\u001b[38;5;124m'\u001b[39m])\n",
      "File \u001b[1;32mC:\\Users\\anaconda_navigator\\anaconda3\\Lib\\site-packages\\pandas\\core\\reshape\\encoding.py:158\u001b[0m, in \u001b[0;36mget_dummies\u001b[1;34m(data, prefix, prefix_sep, dummy_na, columns, sparse, drop_first, dtype)\u001b[0m\n\u001b[0;32m    156\u001b[0m     \u001b[38;5;28;01mraise\u001b[39;00m \u001b[38;5;167;01mTypeError\u001b[39;00m(\u001b[38;5;124m\"\u001b[39m\u001b[38;5;124mInput must be a list-like for parameter `columns`\u001b[39m\u001b[38;5;124m\"\u001b[39m)\n\u001b[0;32m    157\u001b[0m \u001b[38;5;28;01melse\u001b[39;00m:\n\u001b[1;32m--> 158\u001b[0m     data_to_encode \u001b[38;5;241m=\u001b[39m data[columns]\n\u001b[0;32m    160\u001b[0m \u001b[38;5;66;03m# validate prefixes and separator to avoid silently dropping cols\u001b[39;00m\n\u001b[0;32m    161\u001b[0m \u001b[38;5;28;01mdef\u001b[39;00m \u001b[38;5;21mcheck_len\u001b[39m(item, name):\n",
      "File \u001b[1;32mC:\\Users\\anaconda_navigator\\anaconda3\\Lib\\site-packages\\pandas\\core\\frame.py:3767\u001b[0m, in \u001b[0;36mDataFrame.__getitem__\u001b[1;34m(self, key)\u001b[0m\n\u001b[0;32m   3765\u001b[0m     \u001b[38;5;28;01mif\u001b[39;00m is_iterator(key):\n\u001b[0;32m   3766\u001b[0m         key \u001b[38;5;241m=\u001b[39m \u001b[38;5;28mlist\u001b[39m(key)\n\u001b[1;32m-> 3767\u001b[0m     indexer \u001b[38;5;241m=\u001b[39m \u001b[38;5;28mself\u001b[39m\u001b[38;5;241m.\u001b[39mcolumns\u001b[38;5;241m.\u001b[39m_get_indexer_strict(key, \u001b[38;5;124m\"\u001b[39m\u001b[38;5;124mcolumns\u001b[39m\u001b[38;5;124m\"\u001b[39m)[\u001b[38;5;241m1\u001b[39m]\n\u001b[0;32m   3769\u001b[0m \u001b[38;5;66;03m# take() does not accept boolean indexers\u001b[39;00m\n\u001b[0;32m   3770\u001b[0m \u001b[38;5;28;01mif\u001b[39;00m \u001b[38;5;28mgetattr\u001b[39m(indexer, \u001b[38;5;124m\"\u001b[39m\u001b[38;5;124mdtype\u001b[39m\u001b[38;5;124m\"\u001b[39m, \u001b[38;5;28;01mNone\u001b[39;00m) \u001b[38;5;241m==\u001b[39m \u001b[38;5;28mbool\u001b[39m:\n",
      "File \u001b[1;32mC:\\Users\\anaconda_navigator\\anaconda3\\Lib\\site-packages\\pandas\\core\\indexes\\base.py:5877\u001b[0m, in \u001b[0;36mIndex._get_indexer_strict\u001b[1;34m(self, key, axis_name)\u001b[0m\n\u001b[0;32m   5874\u001b[0m \u001b[38;5;28;01melse\u001b[39;00m:\n\u001b[0;32m   5875\u001b[0m     keyarr, indexer, new_indexer \u001b[38;5;241m=\u001b[39m \u001b[38;5;28mself\u001b[39m\u001b[38;5;241m.\u001b[39m_reindex_non_unique(keyarr)\n\u001b[1;32m-> 5877\u001b[0m \u001b[38;5;28mself\u001b[39m\u001b[38;5;241m.\u001b[39m_raise_if_missing(keyarr, indexer, axis_name)\n\u001b[0;32m   5879\u001b[0m keyarr \u001b[38;5;241m=\u001b[39m \u001b[38;5;28mself\u001b[39m\u001b[38;5;241m.\u001b[39mtake(indexer)\n\u001b[0;32m   5880\u001b[0m \u001b[38;5;28;01mif\u001b[39;00m \u001b[38;5;28misinstance\u001b[39m(key, Index):\n\u001b[0;32m   5881\u001b[0m     \u001b[38;5;66;03m# GH 42790 - Preserve name from an Index\u001b[39;00m\n",
      "File \u001b[1;32mC:\\Users\\anaconda_navigator\\anaconda3\\Lib\\site-packages\\pandas\\core\\indexes\\base.py:5938\u001b[0m, in \u001b[0;36mIndex._raise_if_missing\u001b[1;34m(self, key, indexer, axis_name)\u001b[0m\n\u001b[0;32m   5936\u001b[0m     \u001b[38;5;28;01mif\u001b[39;00m use_interval_msg:\n\u001b[0;32m   5937\u001b[0m         key \u001b[38;5;241m=\u001b[39m \u001b[38;5;28mlist\u001b[39m(key)\n\u001b[1;32m-> 5938\u001b[0m     \u001b[38;5;28;01mraise\u001b[39;00m \u001b[38;5;167;01mKeyError\u001b[39;00m(\u001b[38;5;124mf\u001b[39m\u001b[38;5;124m\"\u001b[39m\u001b[38;5;124mNone of [\u001b[39m\u001b[38;5;132;01m{\u001b[39;00mkey\u001b[38;5;132;01m}\u001b[39;00m\u001b[38;5;124m] are in the [\u001b[39m\u001b[38;5;132;01m{\u001b[39;00maxis_name\u001b[38;5;132;01m}\u001b[39;00m\u001b[38;5;124m]\u001b[39m\u001b[38;5;124m\"\u001b[39m)\n\u001b[0;32m   5940\u001b[0m not_found \u001b[38;5;241m=\u001b[39m \u001b[38;5;28mlist\u001b[39m(ensure_index(key)[missing_mask\u001b[38;5;241m.\u001b[39mnonzero()[\u001b[38;5;241m0\u001b[39m]]\u001b[38;5;241m.\u001b[39munique())\n\u001b[0;32m   5941\u001b[0m \u001b[38;5;28;01mraise\u001b[39;00m \u001b[38;5;167;01mKeyError\u001b[39;00m(\u001b[38;5;124mf\u001b[39m\u001b[38;5;124m\"\u001b[39m\u001b[38;5;132;01m{\u001b[39;00mnot_found\u001b[38;5;132;01m}\u001b[39;00m\u001b[38;5;124m not in index\u001b[39m\u001b[38;5;124m\"\u001b[39m)\n",
      "\u001b[1;31mKeyError\u001b[0m: \"None of [Index(['Neighborhood', 'MSZoning', 'Alley', 'LotShape', 'LandContour',\\n       'Condition1', 'HouseStyle', 'MasVnrType', 'SaleCondition'],\\n      dtype='object')] are in the [columns]\""
     ]
    }
   ],
   "source": [
    "\n",
    "df_train_prepro = pd.get_dummies(df_train_prepro,columns=['Neighborhood','MSZoning','Alley','LotShape','LandContour','Condition1','HouseStyle','MasVnrType','SaleCondition'])\n",
    "\n"
   ]
  },
  {
   "cell_type": "code",
   "execution_count": 134,
   "id": "86a2fae8",
   "metadata": {},
   "outputs": [],
   "source": [
    "df_train_prepro = df_train_prepro.replace({True: 1, False: 0})"
   ]
  },
  {
   "cell_type": "code",
   "execution_count": 135,
   "id": "5002f57e",
   "metadata": {},
   "outputs": [],
   "source": [
    "# Convert all columns to numeric (float) and handle NaN values\n",
    "df_train_prepro = df_train_prepro.apply(pd.to_numeric, errors='coerce').fillna(0)"
   ]
  },
  {
   "cell_type": "code",
   "execution_count": 136,
   "id": "37401ca8",
   "metadata": {},
   "outputs": [
    {
     "name": "stdout",
     "output_type": "stream",
     "text": [
      "DataFrame saved to temp/housing_df_train_prepro_onehot.csv\n"
     ]
    }
   ],
   "source": [
    "# Save the DataFrame to a CSV file\n",
    "output_file = 'temp/housing_df_train_prepro_onehot.csv'\n",
    "df_train_prepro.to_csv(output_file, index=False)\n",
    "print(f'DataFrame saved to {output_file}')"
   ]
  },
  {
   "cell_type": "code",
   "execution_count": 402,
   "id": "a1e29df2",
   "metadata": {},
   "outputs": [],
   "source": [
    "import torch\n",
    "import torch.nn as nn\n",
    "import torch.optim as optim\n",
    "from torch.utils.data import TensorDataset, DataLoader\n",
    "from sklearn.model_selection import train_test_split\n",
    "import numpy as np\n",
    "import pandas as pd\n",
    "import matplotlib.pyplot as plt"
   ]
  },
  {
   "cell_type": "code",
   "execution_count": 408,
   "id": "c95f9aa1",
   "metadata": {},
   "outputs": [
    {
     "name": "stdout",
     "output_type": "stream",
     "text": [
      "   OverallQual  GrLivArea  GarageArea  TotalBsmtSF  FullBath  YearBuilt  \\\n",
      "0            7       1710         548          856         2       2003   \n",
      "1            6       1262         460         1262         2       1976   \n",
      "2            7       1786         608          920         2       2001   \n",
      "3            7       1717         642          756         1       1915   \n",
      "4            8       2198         836         1145         2       2000   \n",
      "\n",
      "   YearRemodAdd  Fireplaces  LotFrontage  WoodDeckSF  ...  HouseStyle_SLvl  \\\n",
      "0          2003           0         65.0           0  ...                0   \n",
      "1          1976           1         80.0         298  ...                0   \n",
      "2          2002           1         68.0           0  ...                0   \n",
      "3          1970           1         60.0           0  ...                0   \n",
      "4          2000           1         84.0         192  ...                0   \n",
      "\n",
      "   MasVnrType_BrkCmn  MasVnrType_BrkFace  MasVnrType_Stone  \\\n",
      "0                  0                   1                 0   \n",
      "1                  0                   0                 0   \n",
      "2                  0                   1                 0   \n",
      "3                  0                   0                 0   \n",
      "4                  0                   1                 0   \n",
      "\n",
      "   SaleCondition_Abnorml  SaleCondition_AdjLand  SaleCondition_Alloca  \\\n",
      "0                      0                      0                     0   \n",
      "1                      0                      0                     0   \n",
      "2                      0                      0                     0   \n",
      "3                      1                      0                     0   \n",
      "4                      0                      0                     0   \n",
      "\n",
      "   SaleCondition_Family  SaleCondition_Normal  SaleCondition_Partial  \n",
      "0                     0                     1                      0  \n",
      "1                     0                     1                      0  \n",
      "2                     0                     1                      0  \n",
      "3                     0                     0                      0  \n",
      "4                     0                     1                      0  \n",
      "\n",
      "[5 rows x 79 columns]\n",
      "(1460, 79)\n"
     ]
    }
   ],
   "source": [
    "df = pd.read_csv('temp/housing_df_train_prepro_onehot.csv')\n",
    "print(df.head())\n",
    "print(df.shape)"
   ]
  },
  {
   "cell_type": "code",
   "execution_count": 422,
   "id": "9794f33b",
   "metadata": {},
   "outputs": [
    {
     "name": "stdout",
     "output_type": "stream",
     "text": [
      "Columns with only zeros:\n",
      "ExterQual\n"
     ]
    }
   ],
   "source": [
    "# Iterate over the columns and check if any of them contain only zeros\n",
    "zero_columns = []\n",
    "for column in df.columns:\n",
    "       if df[column].std() == 0:\n",
    "#         print(column)\n",
    "        zero_columns.append(column)\n",
    "\n",
    "# Print the columns that contain only zeros\n",
    "print(\"Columns with only zeros:\")\n",
    "for column in zero_columns:\n",
    "    print(column)\n",
    "    \n",
    "\n",
    "    \n"
   ]
  },
  {
   "cell_type": "code",
   "execution_count": 410,
   "id": "65910657",
   "metadata": {},
   "outputs": [],
   "source": [
    "\n",
    "x= df.drop (['SalePrice', 'ExterQual'], axis =1).values\n",
    "y = df['SalePrice'].values"
   ]
  },
  {
   "cell_type": "code",
   "execution_count": 411,
   "id": "a7f08cad",
   "metadata": {},
   "outputs": [
    {
     "name": "stdout",
     "output_type": "stream",
     "text": [
      "(1460, 77)\n"
     ]
    }
   ],
   "source": [
    "print (x.shape)"
   ]
  },
  {
   "cell_type": "code",
   "execution_count": 424,
   "id": "d0bd110a",
   "metadata": {},
   "outputs": [],
   "source": [
    "\n",
    "# Split the data into train and validation sets\n",
    "x_train_pre, x_val_pre, y_train_pre, y_val_pre = train_test_split(x, y, test_size=0.2, random_state=42)\n",
    "\n",
    "\n",
    "# Calculate mean and standard deviation of the training data\n",
    "mean_train = np.mean(x_train_pre, axis=0)\n",
    "std_train = np.std(x_train_pre, axis=0)\n",
    "mean_val = np.mean(x_val_pre, axis=0)\n",
    "std_val = np.std(x_val_pre, axis=0)\n",
    "\n",
    "# Normalize the training data\n",
    "x_train = (x_train_pre - mean_train) / std_train\n",
    "\n",
    "# Normalize the validation data using mean and standard deviation of training data\n",
    "epsilon = 1e-8  # A small value to prevent division by zero\n",
    "\n",
    "# Assuming x_val_pre, mean_val, and std_val are already defined\n",
    "# Normalize x_val\n",
    "x_val = (x_val_pre - mean_val) / (std_val + epsilon)\n",
    "\n",
    "\n",
    "x_train = torch.tensor(x_train, dtype=torch.float32)\n",
    "x_val = torch.tensor(x_val, dtype=torch.float32)\n",
    "\n",
    "# Calculate mean and standard deviation of the training data\n",
    "mean_train = np.mean(y_train_pre, axis=0)\n",
    "std_train = np.std(y_train_pre, axis=0)\n",
    "mean_val = np.mean(y_val_pre, axis=0)\n",
    "std_val = np.std(y_val_pre, axis=0)\n",
    "\n",
    "# Normalize the training data\n",
    "y_train = (y_train_pre - mean_train) / std_train\n",
    "\n",
    "# Normalize the validation data using mean and standard deviation of training data\n",
    "y_val = (y_val_pre - mean_val) / std_val\n",
    "\n",
    "\n",
    "y_train = torch.tensor(y_train, dtype=torch.float32)\n",
    "y_val = torch.tensor(y_val, dtype=torch.float32)"
   ]
  },
  {
   "cell_type": "code",
   "execution_count": 425,
   "id": "cd50a9ae",
   "metadata": {},
   "outputs": [],
   "source": [
    "train_dataset = TensorDataset(x_train, y_train)\n",
    "val_dataset = TensorDataset(x_val, y_val)"
   ]
  },
  {
   "cell_type": "code",
   "execution_count": 426,
   "id": "628a87fc",
   "metadata": {},
   "outputs": [],
   "source": [
    "# Create TensorDatasets and DataLoaders for train and validation sets\n",
    "\n",
    "train_loader = DataLoader(dataset=train_dataset, batch_size=32, shuffle=True)\n",
    "val_loader = DataLoader(dataset=val_dataset, batch_size=32, shuffle=False)"
   ]
  },
  {
   "cell_type": "code",
   "execution_count": 427,
   "id": "b5db28bc",
   "metadata": {},
   "outputs": [],
   "source": [
    "#Definition of network model class\n",
    "class regressionnet(nn.Module):\n",
    "    def __init__(self):\n",
    "        super(regressionnet, self).__init__()\n",
    "        self.fc1 = nn.Linear(77, 500)  # 6 input features\n",
    "        self.fc2 = nn.Linear(500, 20)\n",
    "        self.fc3 = nn.Linear(20, 1)  # Output layer with 2 units for width and height\n",
    "        \n",
    "    def forward(self,x):\n",
    "        x = torch.relu(self.fc1(x))\n",
    "        x = torch.relu(self.fc2(x))\n",
    "        x = self.fc3(x)\n",
    "        return x"
   ]
  },
  {
   "cell_type": "code",
   "execution_count": 428,
   "id": "9a4219c0",
   "metadata": {},
   "outputs": [],
   "source": [
    "# Model, loss function, and optimizer\n",
    "# Initialize the network\n",
    "model = regressionnet()\n",
    "criterion = nn.MSELoss()\n",
    "optimizer = optim.SGD(model.parameters(), lr=0.001)"
   ]
  },
  {
   "cell_type": "code",
   "execution_count": 429,
   "id": "0694fabf",
   "metadata": {
    "scrolled": true
   },
   "outputs": [
    {
     "name": "stderr",
     "output_type": "stream",
     "text": [
      "C:\\Users\\anaconda_navigator\\anaconda3\\Lib\\site-packages\\torch\\nn\\modules\\loss.py:535: UserWarning: Using a target size (torch.Size([32])) that is different to the input size (torch.Size([32, 1])). This will likely lead to incorrect results due to broadcasting. Please ensure they have the same size.\n",
      "  return F.mse_loss(input, target, reduction=self.reduction)\n",
      "C:\\Users\\anaconda_navigator\\anaconda3\\Lib\\site-packages\\torch\\nn\\modules\\loss.py:535: UserWarning: Using a target size (torch.Size([16])) that is different to the input size (torch.Size([16, 1])). This will likely lead to incorrect results due to broadcasting. Please ensure they have the same size.\n",
      "  return F.mse_loss(input, target, reduction=self.reduction)\n",
      "C:\\Users\\anaconda_navigator\\anaconda3\\Lib\\site-packages\\torch\\nn\\modules\\loss.py:535: UserWarning: Using a target size (torch.Size([4])) that is different to the input size (torch.Size([4, 1])). This will likely lead to incorrect results due to broadcasting. Please ensure they have the same size.\n",
      "  return F.mse_loss(input, target, reduction=self.reduction)\n"
     ]
    },
    {
     "name": "stdout",
     "output_type": "stream",
     "text": [
      "Epoch[1/40], Train Loss: 1.0392, Validation Loss: 1.0306, Validation RMSE: 5.7266\n",
      "Epoch[2/40], Train Loss: 1.0214, Validation Loss: 1.0193, Validation RMSE: 5.6951\n",
      "Epoch[3/40], Train Loss: 1.0130, Validation Loss: 1.0132, Validation RMSE: 5.6782\n",
      "Epoch[4/40], Train Loss: 1.0078, Validation Loss: 1.0101, Validation RMSE: 5.6696\n",
      "Epoch[5/40], Train Loss: 1.0062, Validation Loss: 1.0087, Validation RMSE: 5.6656\n",
      "Epoch[6/40], Train Loss: 1.0052, Validation Loss: 1.0078, Validation RMSE: 5.6630\n",
      "Epoch[7/40], Train Loss: 1.0057, Validation Loss: 1.0074, Validation RMSE: 5.6617\n",
      "Epoch[8/40], Train Loss: 1.0025, Validation Loss: 1.0070, Validation RMSE: 5.6608\n",
      "Epoch[9/40], Train Loss: 1.0044, Validation Loss: 1.0068, Validation RMSE: 5.6602\n",
      "Epoch[10/40], Train Loss: 1.0054, Validation Loss: 1.0066, Validation RMSE: 5.6595\n",
      "Epoch[11/40], Train Loss: 1.0047, Validation Loss: 1.0064, Validation RMSE: 5.6589\n",
      "Epoch[12/40], Train Loss: 1.0039, Validation Loss: 1.0063, Validation RMSE: 5.6587\n",
      "Epoch[13/40], Train Loss: 1.0041, Validation Loss: 1.0061, Validation RMSE: 5.6580\n",
      "Epoch[14/40], Train Loss: 1.0040, Validation Loss: 1.0059, Validation RMSE: 5.6576\n",
      "Epoch[15/40], Train Loss: 1.0030, Validation Loss: 1.0058, Validation RMSE: 5.6573\n",
      "Epoch[16/40], Train Loss: 1.0029, Validation Loss: 1.0057, Validation RMSE: 5.6569\n",
      "Epoch[17/40], Train Loss: 1.0045, Validation Loss: 1.0056, Validation RMSE: 5.6566\n",
      "Epoch[18/40], Train Loss: 1.0027, Validation Loss: 1.0055, Validation RMSE: 5.6563\n",
      "Epoch[19/40], Train Loss: 1.0033, Validation Loss: 1.0053, Validation RMSE: 5.6560\n",
      "Epoch[20/40], Train Loss: 1.0029, Validation Loss: 1.0053, Validation RMSE: 5.6557\n",
      "Epoch[21/40], Train Loss: 1.0037, Validation Loss: 1.0051, Validation RMSE: 5.6554\n",
      "Epoch[22/40], Train Loss: 1.0039, Validation Loss: 1.0051, Validation RMSE: 5.6552\n",
      "Epoch[23/40], Train Loss: 1.0021, Validation Loss: 1.0050, Validation RMSE: 5.6549\n",
      "Epoch[24/40], Train Loss: 1.0026, Validation Loss: 1.0049, Validation RMSE: 5.6546\n",
      "Epoch[25/40], Train Loss: 1.0020, Validation Loss: 1.0049, Validation RMSE: 5.6545\n",
      "Epoch[26/40], Train Loss: 1.0032, Validation Loss: 1.0048, Validation RMSE: 5.6543\n",
      "Epoch[27/40], Train Loss: 1.0021, Validation Loss: 1.0047, Validation RMSE: 5.6541\n",
      "Epoch[28/40], Train Loss: 1.0023, Validation Loss: 1.0046, Validation RMSE: 5.6539\n",
      "Epoch[29/40], Train Loss: 1.0027, Validation Loss: 1.0046, Validation RMSE: 5.6538\n",
      "Epoch[30/40], Train Loss: 1.0025, Validation Loss: 1.0045, Validation RMSE: 5.6535\n",
      "Epoch[31/40], Train Loss: 1.0022, Validation Loss: 1.0044, Validation RMSE: 5.6532\n",
      "Epoch[32/40], Train Loss: 1.0028, Validation Loss: 1.0044, Validation RMSE: 5.6531\n",
      "Epoch[33/40], Train Loss: 1.0024, Validation Loss: 1.0042, Validation RMSE: 5.6528\n",
      "Epoch[34/40], Train Loss: 1.0017, Validation Loss: 1.0042, Validation RMSE: 5.6527\n",
      "Epoch[35/40], Train Loss: 1.0028, Validation Loss: 1.0042, Validation RMSE: 5.6526\n",
      "Epoch[36/40], Train Loss: 1.0022, Validation Loss: 1.0041, Validation RMSE: 5.6524\n",
      "Epoch[37/40], Train Loss: 1.0018, Validation Loss: 1.0040, Validation RMSE: 5.6522\n",
      "Epoch[38/40], Train Loss: 1.0024, Validation Loss: 1.0040, Validation RMSE: 5.6520\n",
      "Epoch[39/40], Train Loss: 1.0022, Validation Loss: 1.0039, Validation RMSE: 5.6519\n",
      "Epoch[40/40], Train Loss: 1.0026, Validation Loss: 1.0039, Validation RMSE: 5.6518\n"
     ]
    },
    {
     "data": {
      "image/png": "[encoded data removed]",
      "text/plain": [
       "<Figure size 640x480 with 1 Axes>"
      ]
     },
     "metadata": {},
     "output_type": "display_data"
    },
    {
     "name": "stdout",
     "output_type": "stream",
     "text": [
      "Final Validation RMSE: 5.6518\n"
     ]
    }
   ],
   "source": [
    "train_loss_list = []\n",
    "val_loss_list = []\n",
    "\n",
    "num_epochs = 40\n",
    "for epoch in range(num_epochs):\n",
    "    # Training phase\n",
    "    model.train()\n",
    "    train_loss = 0.0\n",
    "    for inputs, targets in train_loader:\n",
    "        optimizer.zero_grad()  # Clear existing gradients\n",
    "        outputs = model(inputs)  # Forward pass\n",
    "        loss = criterion(outputs, targets)  # Compute loss\n",
    "        loss.backward()  # Backward pass (compute gradients)\n",
    "        optimizer.step()  # Update model parameters\n",
    "        train_loss += loss.item() * inputs.size(0)  # Accumulate the loss\n",
    "\n",
    "    # Calculate average training loss\n",
    "    train_loss /= len(train_loader.dataset)\n",
    "    train_loss_list.append(train_loss)\n",
    "\n",
    "    # Validation phase\n",
    "    model.eval()\n",
    "    val_loss = 0.0\n",
    "    val_total = 0.0\n",
    "    with torch.no_grad():\n",
    "        for inputs, targets in val_loader:\n",
    "            outputs = model(inputs)  # Forward pass\n",
    "            loss = criterion(outputs, targets)  # Compute loss\n",
    "            val_loss += loss.item() * inputs.size(0)  # Accumulate the loss\n",
    "            val_total += ((outputs - targets) ** 2).sum().item()  # Accumulate squared errors\n",
    "\n",
    "    # Calculate average validation loss (MSE) and RMSE\n",
    "    val_loss /= len(val_loader.dataset)\n",
    "    val_loss_list.append(val_loss)\n",
    "    rmse = np.sqrt(val_total / len(val_loader.dataset))\n",
    "\n",
    "    # Print training and validation results\n",
    "    print(f'Epoch[{epoch+1}/{num_epochs}], Train Loss: {train_loss:.4f}, Validation Loss: {val_loss:.4f}, Validation RMSE: {rmse:.4f}')\n",
    "\n",
    "# Plotting training and validation loss\n",
    "plt.plot(train_loss_list, label='Training Loss')\n",
    "plt.plot(val_loss_list, label='Validation Loss')\n",
    "plt.xlabel('Epoch')\n",
    "plt.ylabel('Loss')\n",
    "plt.title('Training and Validation Loss')\n",
    "plt.legend()\n",
    "plt.savefig('temp/regression_loss_plot.png')\n",
    "plt.show()\n",
    "\n",
    "# Print final RMSE\n",
    "print(f'Final Validation RMSE: {rmse:.4f}')"
   ]
  },
  {
   "cell_type": "code",
   "execution_count": 432,
   "id": "e09eea9e",
   "metadata": {},
   "outputs": [],
   "source": [
    "# total_params = sum(p.numel() for p in regressionnet.parameters())\n",
    "# print(f'Total number of parameters in the model: {total_params}')"
   ]
  },
  {
   "cell_type": "code",
   "execution_count": null,
   "id": "5283e049",
   "metadata": {},
   "outputs": [],
   "source": []
  },
  {
   "cell_type": "markdown",
   "id": "03eba185",
   "metadata": {},
   "source": [
    "# (c)\n"
   ]
  },
  {
   "cell_type": "code",
   "execution_count": 455,
   "id": "2abdee4a",
   "metadata": {},
   "outputs": [],
   "source": [
    "#Definition of network model class\n",
    "class regressionnet(nn.Module):\n",
    "    def __init__(self):\n",
    "        super(regressionnet, self).__init__()\n",
    "        self.fc1 = nn.Linear(77, 1024) \n",
    "        self.fc2 = nn.Linear(1024, 512)\n",
    "        self.fc3 = nn.Linear(512, 256)\n",
    "        self.fc4 = nn.Linear(256, 128)  \n",
    "        self.fc5 = nn.Linear(128, 64)\n",
    "        self.fc6 = nn.Linear(64, 32)\n",
    "        self.fc7 = nn.Linear(32, 1)\n",
    "        \n",
    "    def forward(self,x):\n",
    "        x = torch.relu(self.fc1(x))\n",
    "        x = torch.relu(self.fc2(x))\n",
    "        x = torch.relu(self.fc3(x))\n",
    "        x = torch.relu(self.fc4(x))\n",
    "        x = torch.relu(self.fc5(x))\n",
    "        x = torch.relu(self.fc6(x))\n",
    "        x = self.fc7(x)\n",
    "        return x"
   ]
  },
  {
   "cell_type": "code",
   "execution_count": 456,
   "id": "9d5989d7",
   "metadata": {},
   "outputs": [],
   "source": [
    "# Model, loss function, and optimizer\n",
    "# Initialize the network\n",
    "model = regressionnet()\n",
    "criterion = nn.MSELoss()\n",
    "optimizer = optim.SGD(model.parameters(), lr=0.001)"
   ]
  },
  {
   "cell_type": "code",
   "execution_count": 457,
   "id": "b5ecd44f",
   "metadata": {
    "scrolled": true
   },
   "outputs": [
    {
     "name": "stdout",
     "output_type": "stream",
     "text": [
      "Epoch[1/40], Train Loss: 1.0046, Validation Loss: 1.0040, Validation RMSE: 5.6515\n",
      "Epoch[2/40], Train Loss: 1.0038, Validation Loss: 1.0033, Validation RMSE: 5.6495\n",
      "Epoch[3/40], Train Loss: 1.0031, Validation Loss: 1.0028, Validation RMSE: 5.6481\n",
      "Epoch[4/40], Train Loss: 1.0026, Validation Loss: 1.0023, Validation RMSE: 5.6469\n",
      "Epoch[5/40], Train Loss: 1.0022, Validation Loss: 1.0019, Validation RMSE: 5.6457\n",
      "Epoch[6/40], Train Loss: 1.0018, Validation Loss: 1.0016, Validation RMSE: 5.6447\n",
      "Epoch[7/40], Train Loss: 1.0016, Validation Loss: 1.0013, Validation RMSE: 5.6439\n",
      "Epoch[8/40], Train Loss: 1.0013, Validation Loss: 1.0010, Validation RMSE: 5.6434\n",
      "Epoch[9/40], Train Loss: 1.0011, Validation Loss: 1.0008, Validation RMSE: 5.6428\n",
      "Epoch[10/40], Train Loss: 1.0009, Validation Loss: 1.0007, Validation RMSE: 5.6424\n",
      "Epoch[11/40], Train Loss: 1.0007, Validation Loss: 1.0006, Validation RMSE: 5.6421\n",
      "Epoch[12/40], Train Loss: 1.0007, Validation Loss: 1.0005, Validation RMSE: 5.6418\n",
      "Epoch[13/40], Train Loss: 1.0005, Validation Loss: 1.0004, Validation RMSE: 5.6416\n",
      "Epoch[14/40], Train Loss: 1.0004, Validation Loss: 1.0003, Validation RMSE: 5.6413\n",
      "Epoch[15/40], Train Loss: 1.0004, Validation Loss: 1.0002, Validation RMSE: 5.6412\n",
      "Epoch[16/40], Train Loss: 1.0004, Validation Loss: 1.0002, Validation RMSE: 5.6410\n",
      "Epoch[17/40], Train Loss: 1.0003, Validation Loss: 1.0001, Validation RMSE: 5.6409\n",
      "Epoch[18/40], Train Loss: 1.0003, Validation Loss: 1.0001, Validation RMSE: 5.6408\n",
      "Epoch[19/40], Train Loss: 1.0002, Validation Loss: 1.0001, Validation RMSE: 5.6408\n",
      "Epoch[20/40], Train Loss: 1.0002, Validation Loss: 1.0001, Validation RMSE: 5.6407\n",
      "Epoch[21/40], Train Loss: 1.0002, Validation Loss: 1.0001, Validation RMSE: 5.6407\n",
      "Epoch[22/40], Train Loss: 1.0002, Validation Loss: 1.0000, Validation RMSE: 5.6407\n",
      "Epoch[23/40], Train Loss: 1.0001, Validation Loss: 1.0000, Validation RMSE: 5.6406\n",
      "Epoch[24/40], Train Loss: 1.0001, Validation Loss: 1.0000, Validation RMSE: 5.6406\n",
      "Epoch[25/40], Train Loss: 1.0001, Validation Loss: 1.0000, Validation RMSE: 5.6406\n",
      "Epoch[26/40], Train Loss: 1.0001, Validation Loss: 1.0000, Validation RMSE: 5.6406\n",
      "Epoch[27/40], Train Loss: 1.0002, Validation Loss: 1.0000, Validation RMSE: 5.6406\n",
      "Epoch[28/40], Train Loss: 1.0001, Validation Loss: 1.0000, Validation RMSE: 5.6406\n",
      "Epoch[29/40], Train Loss: 1.0001, Validation Loss: 1.0000, Validation RMSE: 5.6406\n",
      "Epoch[30/40], Train Loss: 1.0001, Validation Loss: 1.0000, Validation RMSE: 5.6406\n",
      "Epoch[31/40], Train Loss: 1.0001, Validation Loss: 1.0000, Validation RMSE: 5.6405\n",
      "Epoch[32/40], Train Loss: 1.0001, Validation Loss: 1.0000, Validation RMSE: 5.6405\n",
      "Epoch[33/40], Train Loss: 1.0001, Validation Loss: 1.0000, Validation RMSE: 5.6405\n",
      "Epoch[34/40], Train Loss: 1.0000, Validation Loss: 1.0000, Validation RMSE: 5.6405\n",
      "Epoch[35/40], Train Loss: 1.0001, Validation Loss: 1.0000, Validation RMSE: 5.6405\n",
      "Epoch[36/40], Train Loss: 1.0001, Validation Loss: 1.0000, Validation RMSE: 5.6405\n",
      "Epoch[37/40], Train Loss: 1.0001, Validation Loss: 1.0000, Validation RMSE: 5.6405\n",
      "Epoch[38/40], Train Loss: 1.0001, Validation Loss: 1.0000, Validation RMSE: 5.6405\n",
      "Epoch[39/40], Train Loss: 1.0001, Validation Loss: 1.0000, Validation RMSE: 5.6405\n",
      "Epoch[40/40], Train Loss: 1.0000, Validation Loss: 1.0000, Validation RMSE: 5.6405\n"
     ]
    },
    {
     "data": {
      "image/png": "[encoded data removed]",
      "text/plain": [
       "<Figure size 640x480 with 1 Axes>"
      ]
     },
     "metadata": {},
     "output_type": "display_data"
    },
    {
     "name": "stdout",
     "output_type": "stream",
     "text": [
      "Final Validation RMSE: 5.6405\n"
     ]
    }
   ],
   "source": [
    "train_loss_list = []\n",
    "val_loss_list = []\n",
    "\n",
    "num_epochs = 40\n",
    "for epoch in range(num_epochs):\n",
    "    # Training phase\n",
    "    model.train()\n",
    "    train_loss = 0.0\n",
    "    for inputs, targets in train_loader:\n",
    "        optimizer.zero_grad()  # Clear existing gradients\n",
    "        outputs = model(inputs)  # Forward pass\n",
    "        loss = criterion(outputs, targets)  # Compute loss\n",
    "        loss.backward()  # Backward pass (compute gradients)\n",
    "        optimizer.step()  # Update model parameters\n",
    "        train_loss += loss.item() * inputs.size(0)  # Accumulate the loss\n",
    "\n",
    "    # Calculate average training loss\n",
    "    train_loss /= len(train_loader.dataset)\n",
    "    train_loss_list.append(train_loss)\n",
    "\n",
    "    # Validation phase\n",
    "    model.eval()\n",
    "    val_loss = 0.0\n",
    "    val_total = 0.0\n",
    "    with torch.no_grad():\n",
    "        for inputs, targets in val_loader:\n",
    "            outputs = model(inputs)  # Forward pass\n",
    "            loss = criterion(outputs, targets)  # Compute loss\n",
    "            val_loss += loss.item() * inputs.size(0)  # Accumulate the loss\n",
    "            val_total += ((outputs - targets) ** 2).sum().item()  # Accumulate squared errors\n",
    "\n",
    "    # Calculate average validation loss (MSE) and RMSE\n",
    "    val_loss /= len(val_loader.dataset)\n",
    "    val_loss_list.append(val_loss)\n",
    "    rmse = np.sqrt(val_total / len(val_loader.dataset))\n",
    "\n",
    "    # Print training and validation results\n",
    "    print(f'Epoch[{epoch+1}/{num_epochs}], Train Loss: {train_loss:.4f}, Validation Loss: {val_loss:.4f}, Validation RMSE: {rmse:.4f}')\n",
    "\n",
    "# Plotting training and validation loss\n",
    "plt.plot(train_loss_list, label='Training Loss')\n",
    "plt.plot(val_loss_list, label='Validation Loss')\n",
    "plt.xlabel('Epoch')\n",
    "plt.ylabel('Loss')\n",
    "plt.title('Training and Validation Loss')\n",
    "plt.legend()\n",
    "plt.savefig('temp/regression_loss_plot.png')\n",
    "plt.show()\n",
    "\n",
    "# Print final RMSE\n",
    "print(f'Final Validation RMSE: {rmse:.4f}')"
   ]
  },
  {
   "cell_type": "code",
   "execution_count": null,
   "id": "7a73aa98",
   "metadata": {},
   "outputs": [],
   "source": []
  }
 ],
 "metadata": {
  "kernelspec": {
   "display_name": "Python 3 (ipykernel)",
   "language": "python",
   "name": "python3"
  },
  "language_info": {
   "codemirror_mode": {
    "name": "ipython",
    "version": 3
   },
   "file_extension": ".py",
   "mimetype": "text/x-python",
   "name": "python",
   "nbconvert_exporter": "python",
   "pygments_lexer": "ipython3",
   "version": "3.11.5"
  }
 },
 "nbformat": 4,
 "nbformat_minor": 5
}
