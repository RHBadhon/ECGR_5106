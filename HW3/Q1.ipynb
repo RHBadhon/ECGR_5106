{
 "cells": [
  {
   "cell_type": "markdown",
   "id": "db75d4c6",
   "metadata": {},
   "source": [
    "# RNN with sequence length 10, 20 & 30"
   ]
  },
  {
   "cell_type": "code",
   "execution_count": 1,
   "id": "0aa48705",
   "metadata": {},
   "outputs": [],
   "source": [
    "#library\n",
    "import torch\n",
    "import torch.nn as nn\n",
    "import torch.optim as optim\n",
    "import numpy as np\n",
    "import time\n",
    "from sklearn.model_selection import train_test_split"
   ]
  },
  {
   "cell_type": "code",
   "execution_count": 2,
   "id": "ed2769db",
   "metadata": {},
   "outputs": [],
   "source": [
    "\n",
    "\n",
    "# Sample text\n",
    "text = \"Next character prediction is a fundamental task in the field of natural language processing (NLP) that involves predicting the next character in a sequence of text based on the characters that precede it. This task is essential for various applications, including text auto-completion, spell checking, and even in the development of sophisticated AI models capable of generating human-like text. At its core, next character prediction relies on statistical models or deep learning algorithms to analyze a given sequence of text and predict which character is most likely to follow. These predictions are based on patterns and relationships learned from large datasets of text during the training phase of the model. One of the most popular approaches to next character prediction involves the use of Recurrent Neural Networks (RNNs), and more specifically, a variant called Long Short-Term Memory (LSTM) networks. RNNs are particularly well-suited for sequential data like text, as they can maintain information in 'memory' about previous characters to inform the prediction of the next character. LSTM networks enhance this capability by being able to remember long-term dependencies, making them even more effective for next character prediction tasks. Training a model for next character prediction involves feeding it large amounts of text data, allowing it to learn the probability of each character's appearance following a sequence of characters. During this training process, the model adjusts its parameters to minimize the difference between its predictions and the actual outcomes, thus improving its predictive accuracy over time. Once trained, the model can be used to predict the next character in a given piece of text by considering the sequence of characters that precede it. This can enhance user experience in text editing software, improve efficiency in coding environments with auto-completion features, and enable more natural interactions with AI-based chatbots and virtual assistants. In summary, next character prediction plays a crucial role in enhancing the capabilities of various NLP applications, making text-based interactions more efficient, accurate, and human-like. Through the use of advanced machine learning models like RNNs and LSTMs, next character prediction continues to evolve, opening new possibilities for the future of text-based technology.\"\n",
    "# Creating character vocabulary\n",
    "# part of the data preprocessing step for a character-level text modeling task. \n",
    "# Create mappings between characters in the text and numerical indices\n",
    "\n",
    "#set(text): Creates a set of unique characters found in the text. The set function removes any duplicate characters.\n",
    "#list(set(text)): Converts the set back into a list so that it can be sorted. \n",
    "# sorted(list(set(text))): Sorts the list of unique characters. \n",
    "chars = sorted(list(set(text)))\n",
    "#This line creates a dictionary that maps each character to a unique index (integer).\"\n",
    "ix_to_char = {i: ch for i, ch in enumerate(chars)}\n",
    "#Similar to the previous line, but in reverse. This line creates a dictionary that maps each unique index (integer) back to its corresponding character.\n",
    "char_to_ix = {ch: i for i, ch in enumerate(chars)} \n",
    "\n",
    "\n",
    "\n",
    "\n",
    "\n",
    "\n",
    "\n",
    "\n",
    "\n",
    "\n"
   ]
  },
  {
   "cell_type": "code",
   "execution_count": 3,
   "id": "e6f0bccb",
   "metadata": {},
   "outputs": [
    {
     "name": "stdout",
     "output_type": "stream",
     "text": [
      "{0: ' ', 1: \"'\", 2: '(', 3: ')', 4: ',', 5: '-', 6: '.', 7: 'A', 8: 'D', 9: 'I', 10: 'L', 11: 'M', 12: 'N', 13: 'O', 14: 'P', 15: 'R', 16: 'S', 17: 'T', 18: 'a', 19: 'b', 20: 'c', 21: 'd', 22: 'e', 23: 'f', 24: 'g', 25: 'h', 26: 'i', 27: 'j', 28: 'k', 29: 'l', 30: 'm', 31: 'n', 32: 'o', 33: 'p', 34: 'q', 35: 'r', 36: 's', 37: 't', 38: 'u', 39: 'v', 40: 'w', 41: 'x', 42: 'y', 43: 'z'}\n"
     ]
    }
   ],
   "source": [
    "# print(ix_to_char)\n",
    "      "
   ]
  },
  {
   "cell_type": "markdown",
   "id": "152680e9",
   "metadata": {},
   "source": [
    "# sequence length"
   ]
  },
  {
   "cell_type": "code",
   "execution_count": 4,
   "id": "0f54bb96",
   "metadata": {},
   "outputs": [],
   "source": [
    "# Preparing the dataset\n",
    "max_length = 10  # Maximum length of input sequences, change it to 20, 3o, .... for different sequence length"
   ]
  },
  {
   "cell_type": "code",
   "execution_count": 5,
   "id": "7ba03453",
   "metadata": {},
   "outputs": [],
   "source": [
    "from numpy import size\n",
    "X = []\n",
    "y = []\n",
    "for i in range(len(text) - max_length):\n",
    "    sequence = text[i:i + max_length]\n",
    "    label = text[i + max_length]\n",
    "    X.append([char_to_ix[char] for char in sequence])\n",
    "    y.append(char_to_ix[label])\n",
    "\n",
    "X = np.array(X)\n",
    "\n",
    "y = np.array(y)\n",
    "\n",
    "\n",
    "# Splitting the dataset into training and validation sets\n",
    "X_train, X_val, y_train, y_val = train_test_split(X, y, test_size=0.2, random_state=42)\n",
    "\n",
    "# Converting data to PyTorch tensors\n",
    "X_train = torch.tensor(X_train, dtype=torch.long)\n",
    "y_train = torch.tensor(y_train, dtype=torch.long)\n",
    "X_val = torch.tensor(X_val, dtype=torch.long)\n",
    "y_val = torch.tensor(y_val, dtype=torch.long)\n"
   ]
  },
  {
   "cell_type": "markdown",
   "id": "646107ab",
   "metadata": {},
   "source": [
    "# RNN"
   ]
  },
  {
   "cell_type": "code",
   "execution_count": 6,
   "id": "187a1021",
   "metadata": {},
   "outputs": [],
   "source": [
    "# Defining the RNN model\n",
    "class CharRNN(nn.Module):\n",
    "    def __init__(self, input_size, hidden_size, output_size):\n",
    "        super(CharRNN, self).__init__()\n",
    "        self.hidden_size = hidden_size\n",
    "        #This line takes the input tensor x, which contains indices of characters, and passes it through an embedding layer (self.embedding). \n",
    "        #The embedding layer converts these indices into dense vectors of fixed size. \n",
    "        #These vectors are learned during training and can capture semantic similarities between characters. \n",
    "        #The result is a higher-dimensional representation of the input sequence, where each character index is replaced by its corresponding embedding vector. \n",
    "        self.embedding = nn.Embedding(input_size, hidden_size)\n",
    "        self.rnn = nn.RNN(hidden_size, hidden_size, batch_first=True) #### nn.GRU/nn.LSTM\n",
    "        self.fc = nn.Linear(hidden_size, output_size)\n",
    "\n",
    "    def forward(self, x):\n",
    "        embedded = self.embedding(x)\n",
    "        #The RNN layer returns two outputs: \n",
    "        #1- the output tensor containing the output of the RNN at each time step for each sequence in the batch, \n",
    "        #2-the hidden state (_) of the last time step (which is not used in this line, hence the underscore).\n",
    "        output, _ = self.rnn(embedded)\n",
    "        #The RNN's output contains the outputs for every time step, \n",
    "        #but for this task, we're only interested in the output of the last time step because we're predicting the next character after the sequence. \n",
    "        #output[:, -1, :] selects the last time step's output for every sequence in the batch (-1 indexes the last item in Python).\n",
    "        output = self.fc(output[:, -1, :])  # Get the output of the last RNN cell\n",
    "        return output\n",
    "    \n"
   ]
  },
  {
   "cell_type": "markdown",
   "id": "65db6079",
   "metadata": {},
   "source": [
    "# LSTM/GRU"
   ]
  },
  {
   "cell_type": "code",
   "execution_count": 7,
   "id": "732c1440",
   "metadata": {},
   "outputs": [],
   "source": [
    "###change nn.RNN to LSTM or GRU to run the specific model for the cell above\n",
    "#         self.rnn = nn.RNN(hidden_size, hidden_size, batch_first=True)"
   ]
  },
  {
   "cell_type": "code",
   "execution_count": 8,
   "id": "afa64798",
   "metadata": {},
   "outputs": [],
   "source": [
    "# Hyperparameters\n",
    "hidden_size = 128\n",
    "learning_rate = 0.005\n",
    "epochs = 100\n",
    "\n",
    "# Model, loss, and optimizer\n",
    "model = CharRNN(len(chars), hidden_size, len(chars))\n",
    "criterion = nn.CrossEntropyLoss()\n",
    "optimizer = optim.Adam(model.parameters(), lr=learning_rate)\n",
    "\n"
   ]
  },
  {
   "cell_type": "code",
   "execution_count": 9,
   "id": "42dc6604",
   "metadata": {},
   "outputs": [
    {
     "name": "stdout",
     "output_type": "stream",
     "text": [
      "Epoch 10, Loss: 2.3790745735168457, Validation Loss: 2.367903470993042, Validation Accuracy: 0.3424369692802429\n",
      "Epoch 20, Loss: 1.8729549646377563, Validation Loss: 2.084791660308838, Validation Accuracy: 0.43697479367256165\n",
      "Epoch 30, Loss: 1.4636788368225098, Validation Loss: 1.927374005317688, Validation Accuracy: 0.49369746446609497\n",
      "Epoch 40, Loss: 1.0962116718292236, Validation Loss: 1.8472334146499634, Validation Accuracy: 0.5231092572212219\n",
      "Epoch 50, Loss: 0.7657121419906616, Validation Loss: 1.8294949531555176, Validation Accuracy: 0.5378151535987854\n",
      "Epoch 60, Loss: 0.49231237173080444, Validation Loss: 1.9124401807785034, Validation Accuracy: 0.5483193397521973\n",
      "Epoch 70, Loss: 0.29185059666633606, Validation Loss: 2.0387141704559326, Validation Accuracy: 0.5462185144424438\n",
      "Epoch 80, Loss: 0.16925048828125, Validation Loss: 2.18334698677063, Validation Accuracy: 0.5210084319114685\n",
      "Epoch 90, Loss: 0.10439113527536392, Validation Loss: 2.312807559967041, Validation Accuracy: 0.5189075469970703\n",
      "Epoch 100, Loss: 0.07459937036037445, Validation Loss: 2.4220166206359863, Validation Accuracy: 0.5273109078407288\n",
      "Execution time: 9.130935430526733 seconds\n",
      "Number of trainable parameters: 110380\n"
     ]
    }
   ],
   "source": [
    "\n",
    "start_time = time.time()  # Start time \n",
    "\n",
    "# Training the model\n",
    "\n",
    "for epoch in range(epochs):\n",
    "    model.train()\n",
    "    optimizer.zero_grad()\n",
    "    output = model(X_train)\n",
    "    loss = criterion(output, y_train)\n",
    "    loss.backward()\n",
    "    optimizer.step()\n",
    "    \n",
    "    # Validation\n",
    "    model.eval()\n",
    "    with torch.no_grad():\n",
    "        val_output = model(X_val)\n",
    "        val_loss = criterion(val_output, y_val)\n",
    "        #The use of the underscore _ is a common Python convention to indicate that the actual maximum values returned by torch.max are not needed and can be disregarded. \n",
    "        #What we are interested in is the indices of these maximum values, which are captured by the variable predicted. These indices represent the model's predictions for each example in the validation set.\n",
    "        _, predicted = torch.max(val_output, 1)\n",
    "        val_accuracy = (predicted == y_val).float().mean()\n",
    "    \n",
    "    if (epoch+1) % 10 == 0:\n",
    "        print(f'Epoch {epoch+1}, Loss: {loss.item()}, Validation Loss: {val_loss.item()}, Validation Accuracy: {val_accuracy.item()}')\n",
    "        \n",
    "        \n",
    "end_time = time.time()  # end time\n",
    "execution_time = end_time - start_time\n",
    "print(f\"Execution time: {execution_time} seconds\")\n",
    "\n",
    "# Model complexity\n",
    "model_parameters = filter(lambda p: p.requires_grad, model.parameters())\n",
    "params = sum([np.prod(p.size()) for p in model_parameters])\n",
    "print(f\"Number of trainable parameters: {params}\")"
   ]
  },
  {
   "cell_type": "code",
   "execution_count": 10,
   "id": "55155f40",
   "metadata": {},
   "outputs": [
    {
     "name": "stdout",
     "output_type": "stream",
     "text": [
      "Predicted next character for a seq of 10: 'h'\n"
     ]
    }
   ],
   "source": [
    "# Prediction function\n",
    "def predict_next_char(model, char_to_ix, ix_to_char, initial_str):\n",
    "    model.eval()\n",
    "    with torch.no_grad():\n",
    "        initial_input = torch.tensor([char_to_ix[c] for c in initial_str[-max_length:]], dtype=torch.long).unsqueeze(0)\n",
    "        prediction = model(initial_input)\n",
    "        predicted_index = torch.argmax(prediction, dim=1).item()\n",
    "        return ix_to_char[predicted_index]\n",
    "\n",
    "# Predicting the next character\n",
    "test_str = \"most popular approaches to next character prediction involves t\"\n",
    "predicted_char = predict_next_char(model, char_to_ix, ix_to_char, test_str)\n",
    "print(f\"Predicted next character for a seq of {max_length}: '{predicted_char}'\")"
   ]
  },
  {
   "cell_type": "code",
   "execution_count": null,
   "id": "e2cbb540",
   "metadata": {},
   "outputs": [],
   "source": []
  },
  {
   "cell_type": "code",
   "execution_count": null,
   "id": "1276df01",
   "metadata": {},
   "outputs": [],
   "source": []
  }
 ],
 "metadata": {
  "kernelspec": {
   "display_name": "Python 3 (ipykernel)",
   "language": "python",
   "name": "python3"
  },
  "language_info": {
   "codemirror_mode": {
    "name": "ipython",
    "version": 3
   },
   "file_extension": ".py",
   "mimetype": "text/x-python",
   "name": "python",
   "nbconvert_exporter": "python",
   "pygments_lexer": "ipython3",
   "version": "3.11.5"
  }
 },
 "nbformat": 4,
 "nbformat_minor": 5
}
